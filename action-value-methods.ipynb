{
  "nbformat": 4,
  "nbformat_minor": 0,
  "metadata": {
    "colab": {
      "name": "action-value-methods.ipynb",
      "provenance": [],
      "collapsed_sections": []
    },
    "kernelspec": {
      "name": "python3",
      "display_name": "Python 3"
    }
  },
  "cells": [
    {
      "cell_type": "markdown",
      "metadata": {
        "id": "RwHvcCACLqE7"
      },
      "source": [
        "# Demonstration of greedy approaches for n-armed bandit problem"
      ]
    },
    {
      "cell_type": "markdown",
      "metadata": {
        "id": "aAC_78f8L4Op"
      },
      "source": [
        "### Initialising the actions and corresponding rewards\n",
        "\n",
        "- Rewards for each action will be sampled from a normal distribution"
      ]
    },
    {
      "cell_type": "code",
      "metadata": {
        "id": "wO-ROPXbLkHZ"
      },
      "source": [
        "import numpy as np\n",
        "import matplotlib.pyplot as plt\n",
        "%matplotlib inline"
      ],
      "execution_count": 1,
      "outputs": []
    },
    {
      "cell_type": "code",
      "metadata": {
        "id": "w3YXTVsnNSaC"
      },
      "source": [
        "n_arms = 10\n",
        "t = 2000"
      ],
      "execution_count": 2,
      "outputs": []
    },
    {
      "cell_type": "markdown",
      "metadata": {
        "id": "SzA2aH6GLsjx"
      },
      "source": [
        "### Rewards\n",
        "\n",
        "We define a true mean reward for all arms by sampling them from a normal distribution (mean = 0, stddev = 1).\n",
        "\n",
        "We get rewarded for the actions by sampling a normal distribution with mean = true mean of that action and stddev = 1"
      ]
    },
    {
      "cell_type": "code",
      "metadata": {
        "id": "UTGc2SxzMZEf"
      },
      "source": [
        "q_true = np.random.normal(0, 1, n_arms)\n",
        "\n",
        "def get_reward(mean):\n",
        "    return np.random.normal(mean, 1)"
      ],
      "execution_count": 3,
      "outputs": []
    },
    {
      "cell_type": "markdown",
      "metadata": {
        "id": "PMmcHcuJXmv7"
      },
      "source": [
        "### Greedy\n",
        "\n",
        "1.   Pick an action with random probability\n",
        "2.   Evaluate the average reward for that action\n",
        "3.   Pick an action with max reward (greedy)\n",
        "4.   Repeat steps 2 and 3 for t steps\n",
        "\n",
        "\n",
        "\n"
      ]
    },
    {
      "cell_type": "code",
      "metadata": {
        "id": "YTx5O26MW92v"
      },
      "source": [
        "def greedy():\n",
        "    arm_count = {i: 0 for i in range(n_arms)}\n",
        "    q_t = [0] * n_arms\n",
        "    step_vs_reward = {}\n",
        "    average_reward = 0\n",
        "\n",
        "    for step in range(1, t + 1):\n",
        "        picked = np.argmax(q_t)                                                                                 # pick an action greedily\n",
        "        arm_count[picked] += 1\n",
        "        reward = get_reward(q_true[picked])\n",
        "        average_reward += reward\n",
        "        q_t[picked] = q_t[picked] + (reward - q_t[picked]) / arm_count[picked]                                  # update average reward for that action\n",
        "        step_vs_reward[step] = average_reward / step\n",
        "\n",
        "    plt.plot(list(step_vs_reward.keys()), list(step_vs_reward.values()))\n",
        "    return step_vs_reward"
      ],
      "execution_count": 4,
      "outputs": []
    },
    {
      "cell_type": "code",
      "metadata": {
        "colab": {
          "base_uri": "https://localhost:8080/",
          "height": 265
        },
        "id": "UgXft_iJXqsd",
        "outputId": "37bdc325-6410-4df5-ee2d-625330141b2e"
      },
      "source": [
        "_ = greedy()"
      ],
      "execution_count": 5,
      "outputs": [
        {
          "output_type": "display_data",
          "data": {
            "image/png": "[encoded data removed]",
            "text/plain": [
              "<Figure size 432x288 with 1 Axes>"
            ]
          },
          "metadata": {
            "tags": [],
            "needs_background": "light"
          }
        }
      ]
    },
    {
      "cell_type": "markdown",
      "metadata": {
        "id": "aTf5QRSUnA_4"
      },
      "source": [
        "### Epsilon Greedy\n",
        "\n",
        "To support exploration, we pick action greedily with a probability (1 - ε) and we pick an action randomly with a probability ε.\n",
        "\n",
        "It means the prob of picking the greedy action is (1 - ε) + (ε / n_arms). Since the greedy action is a part of random selection."
      ]
    },
    {
      "cell_type": "code",
      "metadata": {
        "id": "KpnQ0pVbiN09"
      },
      "source": [
        "def epsilon_greedy(epsilon):\n",
        "    arm_count = {i: 0 for i in range(n_arms)}\n",
        "    arms = list(arm_count.keys())\n",
        "    q_t = [0] * n_arms\n",
        "    prob = [1 / n_arms] * n_arms                                                                                              # initialize with uniform probability\n",
        "    step_vs_reward = {}\n",
        "    average_reward = 0\n",
        "    \n",
        "    for step in range(1, t + 1):\n",
        "        picked = np.random.choice(arms, p=prob)                                                                               # pick an action with some probability\n",
        "        arm_count[picked] += 1\n",
        "        reward = get_reward(q_true[picked])\n",
        "        average_reward += reward\n",
        "        q_t[picked] = q_t[picked] + (reward - q_t[picked]) / arm_count[picked]                                                # update average reward for that action\n",
        "        step_vs_reward[step] = average_reward / step\n",
        "\n",
        "        max = np.argmax(q_t)\n",
        "        prob = [epsilon / n_arms] * n_arms                                                                                    # pick randomly from the actions with probability ε\n",
        "        prob[max] += (1 - epsilon)                                                                                            # pick greedily with probability (1 - ε) + ε / n_arms\n",
        "\n",
        "    plt.plot(list(step_vs_reward.keys()), list(step_vs_reward.values()))\n",
        "    return step_vs_reward"
      ],
      "execution_count": 6,
      "outputs": []
    },
    {
      "cell_type": "code",
      "metadata": {
        "colab": {
          "base_uri": "https://localhost:8080/",
          "height": 265
        },
        "id": "6ZjPcHv00kN-",
        "outputId": "29f31231-521f-4a2f-a7f1-2b6d8b15efd0"
      },
      "source": [
        "_ = epsilon_greedy(0.1)"
      ],
      "execution_count": 7,
      "outputs": [
        {
          "output_type": "display_data",
          "data": {
            "image/png": "[encoded data removed]",
            "text/plain": [
              "<Figure size 432x288 with 1 Axes>"
            ]
          },
          "metadata": {
            "tags": [],
            "needs_background": "light"
          }
        }
      ]
    },
    {
      "cell_type": "markdown",
      "metadata": {
        "id": "AljoLAayWmiK"
      },
      "source": [
        "### Softmax\n",
        "\n",
        "Even if the highest q_t value arm is greater than the 2nd highest by a very small margin, ε-greedy will assign the 2nd best arm the same probability as the rest of the \"bad\" arms (1 / n_arms for all the other arms). \n",
        "\n",
        "For this, one way is to use a softmax function to convert q_t into a distribution for picking the arms. Softmax will give high probability to high values and low for low values. This will ensure that all the arms receive a probability on the basis of their q_t values and not equal."
      ]
    },
    {
      "cell_type": "code",
      "metadata": {
        "id": "x0IcZ-2cYzrt"
      },
      "source": [
        "def softmax(logits):\n",
        "    logits = np.exp(logits)\n",
        "    return logits / logits.sum()"
      ],
      "execution_count": 8,
      "outputs": []
    },
    {
      "cell_type": "code",
      "metadata": {
        "id": "wkKEk1x19OpY"
      },
      "source": [
        "def softmax_greedy():\n",
        "    arm_count = {i: 0 for i in range(n_arms)}\n",
        "    arms = list(arm_count.keys())\n",
        "    q_t = [0] * n_arms\n",
        "    prob = [1 / n_arms] * n_arms                                                                                              # initialize with uniform probability\n",
        "    step_vs_reward = {}\n",
        "    average_reward = 0\n",
        "    \n",
        "    for step in range(1, t + 1):\n",
        "        picked = np.random.choice(arms, p=prob)                                                                               # pick an action with some probability\n",
        "        arm_count[picked] += 1\n",
        "        reward = get_reward(q_true[picked])\n",
        "        average_reward += reward\n",
        "        q_t[picked] = q_t[picked] + (reward - q_t[picked]) / arm_count[picked]                                                # update average reward for that action\n",
        "        step_vs_reward[step] = average_reward / step\n",
        "\n",
        "        prob = softmax(q_t)                                                                                                   # pick greedily with probability given by softmax(q_t)\n",
        "\n",
        "    plt.plot(list(step_vs_reward.keys()), list(step_vs_reward.values()))\n",
        "    return step_vs_reward"
      ],
      "execution_count": 9,
      "outputs": []
    },
    {
      "cell_type": "code",
      "metadata": {
        "colab": {
          "base_uri": "https://localhost:8080/",
          "height": 265
        },
        "id": "r3qVxcN_aLiV",
        "outputId": "6a938794-d6ed-4b28-c8b7-0e1fe5c0a0e4"
      },
      "source": [
        "_ = softmax_greedy()"
      ],
      "execution_count": 10,
      "outputs": [
        {
          "output_type": "display_data",
          "data": {
            "image/png": "[encoded data removed]",
            "text/plain": [
              "<Figure size 432x288 with 1 Axes>"
            ]
          },
          "metadata": {
            "tags": [],
            "needs_background": "light"
          }
        }
      ]
    },
    {
      "cell_type": "code",
      "metadata": {
        "id": "1ShytV7-aOn_"
      },
      "source": [
        ""
      ],
      "execution_count": 10,
      "outputs": []
    }
  ]
}